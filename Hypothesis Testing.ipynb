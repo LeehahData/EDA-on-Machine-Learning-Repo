{
 "cells": [
  {
   "cell_type": "markdown",
   "id": "bd535951",
   "metadata": {},
   "source": [
    "# HYPOTHESIS TESTING FOR LIFE EXPECTANCY DATASET\n",
    "\n",
    "In this section I will be testing some hypothetical statements based on the data set to get more insights on the data."
   ]
  },
  {
   "cell_type": "markdown",
   "id": "48e25ee1",
   "metadata": {},
   "source": [
    "### Importing Required Libraries"
   ]
  },
  {
   "cell_type": "code",
   "execution_count": 1,
   "id": "1d79f556",
   "metadata": {},
   "outputs": [],
   "source": [
    "import warnings \n",
    "warnings.filterwarnings('ignore')\n",
    "import pandas as pd\n",
    "import numpy as np\n",
    "\n",
    "import matplotlib.pyplot as plt\n",
    "%matplotlib inline\n",
    "import seaborn as sns\n",
    "\n",
    "import scipy.stats as stats \n",
    "from scipy.stats import chi2_contingency\n",
    "\n",
    "from statsmodels.formula.api import ols\n",
    "from statsmodels.stats.anova import anova_lm "
   ]
  },
  {
   "cell_type": "markdown",
   "id": "1ee60889",
   "metadata": {},
   "source": [
    "### Reading and Understanding the data"
   ]
  },
  {
   "cell_type": "code",
   "execution_count": 8,
   "id": "45de2571",
   "metadata": {},
   "outputs": [
    {
     "data": {
      "text/html": [
       "<div>\n",
       "<style scoped>\n",
       "    .dataframe tbody tr th:only-of-type {\n",
       "        vertical-align: middle;\n",
       "    }\n",
       "\n",
       "    .dataframe tbody tr th {\n",
       "        vertical-align: top;\n",
       "    }\n",
       "\n",
       "    .dataframe thead th {\n",
       "        text-align: right;\n",
       "    }\n",
       "</style>\n",
       "<table border=\"1\" class=\"dataframe\">\n",
       "  <thead>\n",
       "    <tr style=\"text-align: right;\">\n",
       "      <th></th>\n",
       "      <th>Country</th>\n",
       "      <th>Year</th>\n",
       "      <th>Status</th>\n",
       "      <th>LifeExpectancy</th>\n",
       "      <th>Adult_Mortality</th>\n",
       "      <th>infant deaths</th>\n",
       "      <th>Alcohol</th>\n",
       "      <th>HIV/AIDS</th>\n",
       "      <th>GDP</th>\n",
       "      <th>Population</th>\n",
       "      <th>Measles</th>\n",
       "      <th>BMI</th>\n",
       "      <th>under-five deaths</th>\n",
       "      <th>Polio</th>\n",
       "    </tr>\n",
       "  </thead>\n",
       "  <tbody>\n",
       "    <tr>\n",
       "      <th>0</th>\n",
       "      <td>Afghanistan</td>\n",
       "      <td>2015</td>\n",
       "      <td>Developing</td>\n",
       "      <td>65.0</td>\n",
       "      <td>263.0</td>\n",
       "      <td>62</td>\n",
       "      <td>0.01</td>\n",
       "      <td>0.1</td>\n",
       "      <td>584.259210</td>\n",
       "      <td>33736494.0</td>\n",
       "      <td>1154</td>\n",
       "      <td>19.1</td>\n",
       "      <td>83</td>\n",
       "      <td>6.0</td>\n",
       "    </tr>\n",
       "    <tr>\n",
       "      <th>1</th>\n",
       "      <td>Afghanistan</td>\n",
       "      <td>2014</td>\n",
       "      <td>Developing</td>\n",
       "      <td>59.9</td>\n",
       "      <td>271.0</td>\n",
       "      <td>64</td>\n",
       "      <td>0.01</td>\n",
       "      <td>0.1</td>\n",
       "      <td>612.696514</td>\n",
       "      <td>327582.0</td>\n",
       "      <td>492</td>\n",
       "      <td>18.6</td>\n",
       "      <td>86</td>\n",
       "      <td>58.0</td>\n",
       "    </tr>\n",
       "    <tr>\n",
       "      <th>2</th>\n",
       "      <td>Afghanistan</td>\n",
       "      <td>2013</td>\n",
       "      <td>Developing</td>\n",
       "      <td>59.9</td>\n",
       "      <td>268.0</td>\n",
       "      <td>66</td>\n",
       "      <td>0.01</td>\n",
       "      <td>0.1</td>\n",
       "      <td>631.744976</td>\n",
       "      <td>31731688.0</td>\n",
       "      <td>430</td>\n",
       "      <td>18.1</td>\n",
       "      <td>89</td>\n",
       "      <td>62.0</td>\n",
       "    </tr>\n",
       "    <tr>\n",
       "      <th>3</th>\n",
       "      <td>Afghanistan</td>\n",
       "      <td>2012</td>\n",
       "      <td>Developing</td>\n",
       "      <td>59.5</td>\n",
       "      <td>272.0</td>\n",
       "      <td>69</td>\n",
       "      <td>0.01</td>\n",
       "      <td>0.1</td>\n",
       "      <td>669.959000</td>\n",
       "      <td>3696958.0</td>\n",
       "      <td>2787</td>\n",
       "      <td>17.6</td>\n",
       "      <td>93</td>\n",
       "      <td>67.0</td>\n",
       "    </tr>\n",
       "    <tr>\n",
       "      <th>4</th>\n",
       "      <td>Afghanistan</td>\n",
       "      <td>2011</td>\n",
       "      <td>Developing</td>\n",
       "      <td>59.2</td>\n",
       "      <td>275.0</td>\n",
       "      <td>71</td>\n",
       "      <td>0.01</td>\n",
       "      <td>0.1</td>\n",
       "      <td>63.537231</td>\n",
       "      <td>2978599.0</td>\n",
       "      <td>3013</td>\n",
       "      <td>17.2</td>\n",
       "      <td>97</td>\n",
       "      <td>68.0</td>\n",
       "    </tr>\n",
       "  </tbody>\n",
       "</table>\n",
       "</div>"
      ],
      "text/plain": [
       "       Country  Year      Status  LifeExpectancy  Adult_Mortality  \\\n",
       "0  Afghanistan  2015  Developing            65.0            263.0   \n",
       "1  Afghanistan  2014  Developing            59.9            271.0   \n",
       "2  Afghanistan  2013  Developing            59.9            268.0   \n",
       "3  Afghanistan  2012  Developing            59.5            272.0   \n",
       "4  Afghanistan  2011  Developing            59.2            275.0   \n",
       "\n",
       "   infant deaths  Alcohol  HIV/AIDS         GDP  Population  Measles   BMI  \\\n",
       "0             62     0.01       0.1  584.259210  33736494.0     1154  19.1   \n",
       "1             64     0.01       0.1  612.696514    327582.0      492  18.6   \n",
       "2             66     0.01       0.1  631.744976  31731688.0      430  18.1   \n",
       "3             69     0.01       0.1  669.959000   3696958.0     2787  17.6   \n",
       "4             71     0.01       0.1   63.537231   2978599.0     3013  17.2   \n",
       "\n",
       "   under-five deaths   Polio  \n",
       "0                  83    6.0  \n",
       "1                  86   58.0  \n",
       "2                  89   62.0  \n",
       "3                  93   67.0  \n",
       "4                  97   68.0  "
      ]
     },
     "execution_count": 8,
     "metadata": {},
     "output_type": "execute_result"
    }
   ],
   "source": [
    "data = pd.read_csv(r'C:\\Users\\HP\\Desktop\\My documents\\Life_Expectancy data.csv')\n",
    "data.head()"
   ]
  },
  {
   "cell_type": "code",
   "execution_count": 9,
   "id": "2e8ad51a",
   "metadata": {},
   "outputs": [
    {
     "name": "stdout",
     "output_type": "stream",
     "text": [
      "<class 'pandas.core.frame.DataFrame'>\n",
      "RangeIndex: 2938 entries, 0 to 2937\n",
      "Data columns (total 14 columns):\n",
      " #   Column              Non-Null Count  Dtype  \n",
      "---  ------              --------------  -----  \n",
      " 0   Country             2938 non-null   object \n",
      " 1   Year                2938 non-null   int64  \n",
      " 2   Status              2938 non-null   object \n",
      " 3   LifeExpectancy      2938 non-null   float64\n",
      " 4   Adult_Mortality     2938 non-null   float64\n",
      " 5   infant deaths       2938 non-null   int64  \n",
      " 6   Alcohol             2938 non-null   float64\n",
      " 7   HIV/AIDS            2938 non-null   float64\n",
      " 8   GDP                 2938 non-null   float64\n",
      " 9   Population          2938 non-null   float64\n",
      " 10  Measles             2938 non-null   int64  \n",
      " 11  BMI                 2938 non-null   float64\n",
      " 12  under-five deaths   2938 non-null   int64  \n",
      " 13  Polio               2938 non-null   float64\n",
      "dtypes: float64(8), int64(4), object(2)\n",
      "memory usage: 321.5+ KB\n"
     ]
    }
   ],
   "source": [
    "data.info()"
   ]
  },
  {
   "cell_type": "code",
   "execution_count": 10,
   "id": "340f3eae",
   "metadata": {},
   "outputs": [
    {
     "data": {
      "text/html": [
       "<div>\n",
       "<style scoped>\n",
       "    .dataframe tbody tr th:only-of-type {\n",
       "        vertical-align: middle;\n",
       "    }\n",
       "\n",
       "    .dataframe tbody tr th {\n",
       "        vertical-align: top;\n",
       "    }\n",
       "\n",
       "    .dataframe thead th {\n",
       "        text-align: right;\n",
       "    }\n",
       "</style>\n",
       "<table border=\"1\" class=\"dataframe\">\n",
       "  <thead>\n",
       "    <tr style=\"text-align: right;\">\n",
       "      <th></th>\n",
       "      <th>Year</th>\n",
       "      <th>LifeExpectancy</th>\n",
       "      <th>Adult_Mortality</th>\n",
       "      <th>infant deaths</th>\n",
       "      <th>Alcohol</th>\n",
       "      <th>HIV/AIDS</th>\n",
       "      <th>GDP</th>\n",
       "      <th>Population</th>\n",
       "      <th>Measles</th>\n",
       "      <th>BMI</th>\n",
       "      <th>under-five deaths</th>\n",
       "      <th>Polio</th>\n",
       "    </tr>\n",
       "  </thead>\n",
       "  <tbody>\n",
       "    <tr>\n",
       "      <th>count</th>\n",
       "      <td>2938.000000</td>\n",
       "      <td>2938.000000</td>\n",
       "      <td>2938.000000</td>\n",
       "      <td>2938.000000</td>\n",
       "      <td>2938.000000</td>\n",
       "      <td>2938.000000</td>\n",
       "      <td>2938.000000</td>\n",
       "      <td>2.938000e+03</td>\n",
       "      <td>2938.000000</td>\n",
       "      <td>2938.000000</td>\n",
       "      <td>2938.000000</td>\n",
       "      <td>2938.000000</td>\n",
       "    </tr>\n",
       "    <tr>\n",
       "      <th>mean</th>\n",
       "      <td>2007.518720</td>\n",
       "      <td>69.234717</td>\n",
       "      <td>164.725664</td>\n",
       "      <td>30.303948</td>\n",
       "      <td>4.546875</td>\n",
       "      <td>1.742103</td>\n",
       "      <td>6611.523863</td>\n",
       "      <td>1.023085e+07</td>\n",
       "      <td>2419.592240</td>\n",
       "      <td>38.381178</td>\n",
       "      <td>42.035739</td>\n",
       "      <td>82.617767</td>\n",
       "    </tr>\n",
       "    <tr>\n",
       "      <th>std</th>\n",
       "      <td>4.613841</td>\n",
       "      <td>9.509115</td>\n",
       "      <td>124.086215</td>\n",
       "      <td>117.926501</td>\n",
       "      <td>3.921946</td>\n",
       "      <td>5.077785</td>\n",
       "      <td>13296.603449</td>\n",
       "      <td>5.402242e+07</td>\n",
       "      <td>11467.272489</td>\n",
       "      <td>19.935375</td>\n",
       "      <td>160.445548</td>\n",
       "      <td>23.367166</td>\n",
       "    </tr>\n",
       "    <tr>\n",
       "      <th>min</th>\n",
       "      <td>2000.000000</td>\n",
       "      <td>36.300000</td>\n",
       "      <td>1.000000</td>\n",
       "      <td>0.000000</td>\n",
       "      <td>0.010000</td>\n",
       "      <td>0.100000</td>\n",
       "      <td>1.681350</td>\n",
       "      <td>3.400000e+01</td>\n",
       "      <td>0.000000</td>\n",
       "      <td>1.000000</td>\n",
       "      <td>0.000000</td>\n",
       "      <td>3.000000</td>\n",
       "    </tr>\n",
       "    <tr>\n",
       "      <th>25%</th>\n",
       "      <td>2004.000000</td>\n",
       "      <td>63.200000</td>\n",
       "      <td>74.000000</td>\n",
       "      <td>0.000000</td>\n",
       "      <td>1.092500</td>\n",
       "      <td>0.100000</td>\n",
       "      <td>580.486996</td>\n",
       "      <td>4.189172e+05</td>\n",
       "      <td>0.000000</td>\n",
       "      <td>19.400000</td>\n",
       "      <td>0.000000</td>\n",
       "      <td>78.000000</td>\n",
       "    </tr>\n",
       "    <tr>\n",
       "      <th>50%</th>\n",
       "      <td>2008.000000</td>\n",
       "      <td>72.100000</td>\n",
       "      <td>144.000000</td>\n",
       "      <td>3.000000</td>\n",
       "      <td>3.755000</td>\n",
       "      <td>0.100000</td>\n",
       "      <td>1766.947595</td>\n",
       "      <td>1.386542e+06</td>\n",
       "      <td>17.000000</td>\n",
       "      <td>43.500000</td>\n",
       "      <td>4.000000</td>\n",
       "      <td>93.000000</td>\n",
       "    </tr>\n",
       "    <tr>\n",
       "      <th>75%</th>\n",
       "      <td>2012.000000</td>\n",
       "      <td>75.600000</td>\n",
       "      <td>227.000000</td>\n",
       "      <td>22.000000</td>\n",
       "      <td>7.390000</td>\n",
       "      <td>0.800000</td>\n",
       "      <td>4779.405190</td>\n",
       "      <td>4.584371e+06</td>\n",
       "      <td>360.250000</td>\n",
       "      <td>56.100000</td>\n",
       "      <td>28.000000</td>\n",
       "      <td>97.000000</td>\n",
       "    </tr>\n",
       "    <tr>\n",
       "      <th>max</th>\n",
       "      <td>2015.000000</td>\n",
       "      <td>89.000000</td>\n",
       "      <td>723.000000</td>\n",
       "      <td>1800.000000</td>\n",
       "      <td>17.870000</td>\n",
       "      <td>50.600000</td>\n",
       "      <td>119172.741800</td>\n",
       "      <td>1.293859e+09</td>\n",
       "      <td>212183.000000</td>\n",
       "      <td>87.300000</td>\n",
       "      <td>2500.000000</td>\n",
       "      <td>99.000000</td>\n",
       "    </tr>\n",
       "  </tbody>\n",
       "</table>\n",
       "</div>"
      ],
      "text/plain": [
       "              Year  LifeExpectancy  Adult_Mortality  infant deaths  \\\n",
       "count  2938.000000     2938.000000      2938.000000    2938.000000   \n",
       "mean   2007.518720       69.234717       164.725664      30.303948   \n",
       "std       4.613841        9.509115       124.086215     117.926501   \n",
       "min    2000.000000       36.300000         1.000000       0.000000   \n",
       "25%    2004.000000       63.200000        74.000000       0.000000   \n",
       "50%    2008.000000       72.100000       144.000000       3.000000   \n",
       "75%    2012.000000       75.600000       227.000000      22.000000   \n",
       "max    2015.000000       89.000000       723.000000    1800.000000   \n",
       "\n",
       "           Alcohol     HIV/AIDS            GDP    Population        Measles  \\\n",
       "count  2938.000000  2938.000000    2938.000000  2.938000e+03    2938.000000   \n",
       "mean      4.546875     1.742103    6611.523863  1.023085e+07    2419.592240   \n",
       "std       3.921946     5.077785   13296.603449  5.402242e+07   11467.272489   \n",
       "min       0.010000     0.100000       1.681350  3.400000e+01       0.000000   \n",
       "25%       1.092500     0.100000     580.486996  4.189172e+05       0.000000   \n",
       "50%       3.755000     0.100000    1766.947595  1.386542e+06      17.000000   \n",
       "75%       7.390000     0.800000    4779.405190  4.584371e+06     360.250000   \n",
       "max      17.870000    50.600000  119172.741800  1.293859e+09  212183.000000   \n",
       "\n",
       "               BMI  under-five deaths         Polio  \n",
       "count  2938.000000         2938.000000  2938.000000  \n",
       "mean     38.381178           42.035739    82.617767  \n",
       "std      19.935375          160.445548    23.367166  \n",
       "min       1.000000            0.000000     3.000000  \n",
       "25%      19.400000            0.000000    78.000000  \n",
       "50%      43.500000            4.000000    93.000000  \n",
       "75%      56.100000           28.000000    97.000000  \n",
       "max      87.300000         2500.000000    99.000000  "
      ]
     },
     "execution_count": 10,
     "metadata": {},
     "output_type": "execute_result"
    }
   ],
   "source": [
    "data.describe()"
   ]
  },
  {
   "cell_type": "markdown",
   "id": "71e0e4dd",
   "metadata": {},
   "source": [
    "## Steps in Hypothesis Testing\n",
    "\n",
    "Below are the steps involved in hypothesis testing according to the 'Exploratory Data Analysis for Machine Learning' course IBM Machine Learning Professional course."
   ]
  },
  {
   "cell_type": "markdown",
   "id": "aed15382",
   "metadata": {},
   "source": [
    "#### 1. Choose a sample statistic\n",
    "The first step in hypothesis testing is to choose a sample test statistic. Hypothesis testing allows us to check the sample statistic against a statistic of another sample or population. "
   ]
  },
  {
   "cell_type": "markdown",
   "id": "5723ebd4",
   "metadata": {},
   "source": [
    "#### Define hypothesis (Null and Alternative)\n",
    "\n",
    "The next step is to define the hypothesis to be tested. Hypothesis is defined in two ways - null hypothesis and alternative hypothesis. Null hypothesis is a statistical hypothesis which assumes that the difference in observations is due to a random factor. It is denoted by Ho. Alternative hypothesis is the opposite of null hypothesis. It assumes that the difference in observations is the result of a real effect. The alternate hypothesis is denoted by H1.\n",
    "\n",
    "$ 𝐻\\_{0}:\\mu\\_{1}-\\mu\\_{2} = 0 $ There is no difference between the life expectancy of Developing countries and Life Expectancy of Developed countries. \\\n",
    "$ 𝐻\\_{A}:\\mu\\_{1}-\\mu\\_{2} != 0 $ There is difference between the Life Expectancy of Dveloping countries and Life Expectancy of Developed countries.\n",
    "​\n",
    "The equal sign in the null hypothesis indicates that it is a 2-tailed test."
   ]
  },
  {
   "cell_type": "markdown",
   "id": "91aedd35",
   "metadata": {},
   "source": [
    "## Hypothesis Testing"
   ]
  },
  {
   "cell_type": "markdown",
   "id": "36e2ef1f",
   "metadata": {},
   "source": [
    "#### Hypothesis 1"
   ]
  },
  {
   "cell_type": "code",
   "execution_count": 11,
   "id": "e3e3a901",
   "metadata": {},
   "outputs": [],
   "source": [
    "developing=data.loc[data.Status==\"Developing\"]\n",
    "developed=data.loc[data.Status==\"Developed\"]"
   ]
  },
  {
   "cell_type": "code",
   "execution_count": 12,
   "id": "72764881",
   "metadata": {},
   "outputs": [],
   "source": [
    "#selecting life expectancy for both status\n",
    "life1 = developing.LifeExpectancy\n",
    "life2 = developed.LifeExpectancy"
   ]
  },
  {
   "cell_type": "code",
   "execution_count": 13,
   "id": "0bd3775b",
   "metadata": {},
   "outputs": [
    {
     "data": {
      "text/plain": [
       "<AxesSubplot:xlabel='LifeExpectancy', ylabel='Density'>"
      ]
     },
     "execution_count": 13,
     "metadata": {},
     "output_type": "execute_result"
    },
    {
     "data": {
      "image/png": "[encoded data removed]",
      "text/plain": [
       "<Figure size 432x288 with 1 Axes>"
      ]
     },
     "metadata": {
      "needs_background": "light"
     },
     "output_type": "display_data"
    }
   ],
   "source": [
    "#ploting distribution values of both status and Lifeexpectancy\n",
    "sns.distplot(life1,color='green',hist=False)\n",
    "sns.distplot(life2,color='red',hist=False)"
   ]
  },
  {
   "cell_type": "code",
   "execution_count": 15,
   "id": "2e35bb24",
   "metadata": {},
   "outputs": [
    {
     "data": {
      "text/plain": [
       "67.1320280296786"
      ]
     },
     "execution_count": 15,
     "metadata": {},
     "output_type": "execute_result"
    }
   ],
   "source": [
    "#calculating the mean of both Status\n",
    "developing.LifeExpectancy.mean()"
   ]
  },
  {
   "cell_type": "code",
   "execution_count": 16,
   "id": "1d13375d",
   "metadata": {},
   "outputs": [
    {
     "data": {
      "text/plain": [
       "79.19785156249996"
      ]
     },
     "execution_count": 16,
     "metadata": {},
     "output_type": "execute_result"
    }
   ],
   "source": [
    "developed.LifeExpectancy.mean()"
   ]
  },
  {
   "cell_type": "markdown",
   "id": "72a28c6e",
   "metadata": {},
   "source": [
    "Next, I will be working on obtaining statistics, t-value and p-value. I will be using `scipy.stats` library and `ttest_ind()` function to calculate these parameters."
   ]
  },
  {
   "cell_type": "code",
   "execution_count": 17,
   "id": "3de42e0b",
   "metadata": {},
   "outputs": [
    {
     "name": "stdout",
     "output_type": "stream",
     "text": [
      "t_value1 =  29.761100633626537 , p_value1 =  2.4795184014039213e-170\n"
     ]
    }
   ],
   "source": [
    "alpha=0.05\n",
    "t_value1, p_value1 = stats.ttest_ind(life2, life1)\n",
    "print(\"t_value1 = \",t_value1, \", p_value1 = \", p_value1)"
   ]
  },
  {
   "cell_type": "code",
   "execution_count": 18,
   "id": "ef103ad2",
   "metadata": {},
   "outputs": [
    {
     "name": "stdout",
     "output_type": "stream",
     "text": [
      "Conclusion: since p_value 2.4795184014039213e-170 is less than alpha 0.05 \n",
      "Reject the null hypothesis that there is no difference between life expectancy of developing countries and life expectancy of developed countries.\n"
     ]
    }
   ],
   "source": [
    "if p_value1 <alpha:\n",
    "    print(\"Conclusion: since p_value {} is less than alpha {} \". format (p_value1,alpha))\n",
    "    print(\"Reject the null hypothesis that there is no difference between life expectancy of developing countries and life expectancy of developed countries.\")\n",
    "    \n",
    "else:\n",
    "    print(\"Conclusion: since p_value {} is greater than alpha {} \". format (p_value1,alpha))\n",
    "    print(\"Fail to reject the null hypothesis that there is a difference between life expectancy of developing and life expectancy of developed countries.\")"
   ]
  },
  {
   "cell_type": "markdown",
   "id": "f392b2e0",
   "metadata": {},
   "source": [
    "#### From the above conclusion it can be deduced that there is indeed differrences between the life expectancy of both developing and developed countries"
   ]
  },
  {
   "cell_type": "markdown",
   "id": "d43b9480",
   "metadata": {},
   "source": [
    "#### Hypothesis 2"
   ]
  },
  {
   "cell_type": "code",
   "execution_count": 19,
   "id": "f9510d36",
   "metadata": {},
   "outputs": [],
   "source": [
    "#status and bmi\n",
    "developing=data.loc[data.Status==\"Developing\"]\n",
    "developed=data.loc[data.Status==\"Developed\"]"
   ]
  },
  {
   "cell_type": "code",
   "execution_count": 20,
   "id": "bfcc6072",
   "metadata": {},
   "outputs": [],
   "source": [
    "bmi1 = developing.BMI\n",
    "bmi2 = developed.BMI"
   ]
  },
  {
   "cell_type": "code",
   "execution_count": 21,
   "id": "49841e58",
   "metadata": {},
   "outputs": [
    {
     "data": {
      "text/plain": [
       "<AxesSubplot:xlabel='BMI', ylabel='Density'>"
      ]
     },
     "execution_count": 21,
     "metadata": {},
     "output_type": "execute_result"
    },
    {
     "data": {
      "image/png": "[encoded data removed]",
      "text/plain": [
       "<Figure size 432x288 with 1 Axes>"
      ]
     },
     "metadata": {
      "needs_background": "light"
     },
     "output_type": "display_data"
    }
   ],
   "source": [
    "#ploting distribution values of both status and bmi\n",
    "sns.distplot(bmi1,color='green',hist=False)\n",
    "sns.distplot(bmi2,color='red',hist=False)"
   ]
  },
  {
   "cell_type": "code",
   "execution_count": 22,
   "id": "bb6852a4",
   "metadata": {},
   "outputs": [
    {
     "data": {
      "text/plain": [
       "35.54835119538331"
      ]
     },
     "execution_count": 22,
     "metadata": {},
     "output_type": "execute_result"
    }
   ],
   "source": [
    "#calculating the mean of both Status\n",
    "developing.BMI.mean()"
   ]
  },
  {
   "cell_type": "code",
   "execution_count": 23,
   "id": "d0c23e78",
   "metadata": {},
   "outputs": [
    {
     "data": {
      "text/plain": [
       "51.80390624999999"
      ]
     },
     "execution_count": 23,
     "metadata": {},
     "output_type": "execute_result"
    }
   ],
   "source": [
    "developed.BMI.mean()"
   ]
  },
  {
   "cell_type": "code",
   "execution_count": 25,
   "id": "64c3d4a9",
   "metadata": {},
   "outputs": [
    {
     "name": "stdout",
     "output_type": "stream",
     "text": [
      "t_value1 =  17.62804698291227 , p_value1 =  3.431760342326276e-66\n"
     ]
    }
   ],
   "source": [
    "alpha=0.05\n",
    "t_value1, p_value1 = stats.ttest_ind(bmi2, bmi1)\n",
    "print(\"t_value1 = \",t_value1, \", p_value1 = \", p_value1)"
   ]
  },
  {
   "cell_type": "code",
   "execution_count": 26,
   "id": "e7def751",
   "metadata": {},
   "outputs": [
    {
     "name": "stdout",
     "output_type": "stream",
     "text": [
      "Conclusion: since p_value 3.431760342326276e-66 is less than alpha 0.05 \n",
      "Reject the null hypothesis that there is no difference between BMI of developing countries and BMI of developed countries.\n"
     ]
    }
   ],
   "source": [
    "if p_value1 <alpha:\n",
    "    print(\"Conclusion: since p_value {} is less than alpha {} \". format (p_value1,alpha))\n",
    "    print(\"Reject the null hypothesis that there is no difference between BMI of developing countries and BMI of developed countries.\")\n",
    "    \n",
    "else:\n",
    "    print(\"Conclusion: since p_value {} is greater than alpha {} \". format (p_value1,alpha))\n",
    "    print(\"Fail to reject the null hypothesis that there is a difference between BMI of developing and BMI of developed countries.\")"
   ]
  },
  {
   "cell_type": "markdown",
   "id": "767a2832",
   "metadata": {},
   "source": [
    "#### From the above conclusion it can be deduced that there is indeed differrences between the BMI of both developing and developed countries"
   ]
  },
  {
   "cell_type": "markdown",
   "id": "2c58ddc7",
   "metadata": {},
   "source": [
    "### Pearson’s Correlation Coefficient\n",
    "In this section, I will be testing whether two samples have a linear relationship."
   ]
  },
  {
   "cell_type": "code",
   "execution_count": 28,
   "id": "6628ff50",
   "metadata": {},
   "outputs": [
    {
     "name": "stdout",
     "output_type": "stream",
     "text": [
      "stat=-0.190, p=0.000\n",
      "Probably dependent\n"
     ]
    }
   ],
   "source": [
    "#adult mortality and alchohol\n",
    "from scipy.stats import pearsonr\n",
    "data1 = data['Adult_Mortality']\n",
    "data2 = data['Alcohol']\n",
    "stat, p = pearsonr(data1, data2)\n",
    "print('stat=%.3f, p=%.3f' % (stat, p))\n",
    "if p > 0.05:\n",
    "    print('Probably independent')\n",
    "else:\n",
    "    print('Probably dependent')"
   ]
  },
  {
   "cell_type": "code",
   "execution_count": 29,
   "id": "1f5d4a1c",
   "metadata": {},
   "outputs": [
    {
     "name": "stdout",
     "output_type": "stream",
     "text": [
      "stat=-0.696, p=0.000\n",
      "Probably dependent\n"
     ]
    }
   ],
   "source": [
    "#adult mortality and Life expectancy\n",
    "data3 = data['Adult_Mortality']\n",
    "data4 = data['LifeExpectancy']\n",
    "stat, p = pearsonr(data3, data4)\n",
    "print('stat=%.3f, p=%.3f' % (stat, p))\n",
    "if p > 0.05:\n",
    "    print('Probably independent')\n",
    "else:\n",
    "    print('Probably dependent')"
   ]
  },
  {
   "cell_type": "code",
   "execution_count": null,
   "id": "15ea58c8",
   "metadata": {},
   "outputs": [],
   "source": []
  }
 ],
 "metadata": {
  "kernelspec": {
   "display_name": "Python 3 (ipykernel)",
   "language": "python",
   "name": "python3"
  },
  "language_info": {
   "codemirror_mode": {
    "name": "ipython",
    "version": 3
   },
   "file_extension": ".py",
   "mimetype": "text/x-python",
   "name": "python",
   "nbconvert_exporter": "python",
   "pygments_lexer": "ipython3",
   "version": "3.9.7"
  }
 },
 "nbformat": 4,
 "nbformat_minor": 5
}
